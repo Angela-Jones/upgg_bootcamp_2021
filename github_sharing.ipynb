{
 "cells": [
  {
   "cell_type": "markdown",
   "id": "73af6a31-2468-4337-8dca-bae3c6e9ee5d",
   "metadata": {},
   "source": [
    "# Simple sharing example"
   ]
  },
  {
   "cell_type": "code",
   "execution_count": 1,
   "id": "914218dc-6ea4-4cb3-9e4e-fc1ad68cf8dd",
   "metadata": {},
   "outputs": [
    {
     "name": "stdout",
     "output_type": "stream",
     "text": [
      "Hello World\n"
     ]
    }
   ],
   "source": [
    "print(\"Hello World\")"
   ]
  },
  {
   "cell_type": "code",
   "execution_count": 2,
   "id": "6b038f70-8480-4923-a5c9-21ede8ebd69e",
   "metadata": {},
   "outputs": [
    {
     "name": "stdout",
     "output_type": "stream",
     "text": [
      "8\n"
     ]
    }
   ],
   "source": [
    "print(3+5)"
   ]
  }
 ],
 "metadata": {
  "kernelspec": {
   "display_name": "Python 3",
   "language": "python",
   "name": "python3"
  },
  "language_info": {
   "codemirror_mode": {
    "name": "ipython",
    "version": 3
   },
   "file_extension": ".py",
   "mimetype": "text/x-python",
   "name": "python",
   "nbconvert_exporter": "python",
   "pygments_lexer": "ipython3",
   "version": "3.8.8"
  }
 },
 "nbformat": 4,
 "nbformat_minor": 5
}
